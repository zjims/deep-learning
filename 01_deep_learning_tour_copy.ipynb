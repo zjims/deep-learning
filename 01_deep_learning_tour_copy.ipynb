{
  "cells": [
    {
      "cell_type": "markdown",
      "metadata": {
        "id": "npDp3H9x9aR1"
      },
      "source": [
        "![Practicum AI Logo image](https://github.com/zjims/deep-learning/blob/main/images/practicum_ai_logo.png?raw=1) <img src='https://github.com/zjims/deep-learning/blob/main/images/practicumai_deep_learning.png?raw=1' alt='Practicum AI: Deep Learning Foundations icon' align='right' width=50>\n",
        "\n",
        "***\n",
        "# *Practicum AI:* Deep Learning Basics\n",
        "\n",
        "This exercise is inspired by Baig et al. (2020) <i>The Deep Learning Workshop</i> from <a href=\"https://www.packtpub.com/product/the-deep-learning-workshop/9781839219856\">Packt Publishers</a> (Exercise 1.01, page 7).\n",
        "\n",
        "## Deep learning for image recognition\n",
        "\n",
        "Before diving into exactly _how_ deep learning works, let's explore it through an example. We will explore just a few of the fantastic things you can do with existing models and see how easy it can be to implement AI tools with code.\n",
        "\n",
        "In this exercise, we will use a pre-trained deep learning model, [ResNet50](https://arxiv.org/abs/1512.03385), which has been trained on [ImageNet](https://image-net.org/), a collection of about 1.3 million images labeled as being in one of 1,000 categories. We won't focus on the details of ResNet50, but understand that it is a deep learning image classification model developed to categorize images into one of the 1,000 categories in the ImageNet dataset. Like many models, it is openly available and can be seamlessly imported into your notebook with or without the learned weights.\n",
        "\n",
        "To help with this exercise, let us introduce you to our heroine,  Dr. Amelia. <img alt=\"A cartoon of Dr. Amelia, a nutrition researcher, sitting at a computer thinking about food items which appear in a thought bubble.\" src=\"https://github.com/zjims/deep-learning/blob/main/images/DrAmelia.jpg?raw=1\" padding=20 align=\"right\" width=250>\n",
        "\n",
        "Amelia is a research nutritionist who is conducting a dietary study in which she analyzes her participants' diets. Experience has shown her that when asked to report the details of their meals, participants frequently either do not enter the data or misreport what they ate. For Amelia's new study, she hopes to have them take photos of their meals and use AI to analyze their diet automatically. As a first step, she wants to test a model to see how well it can recognize a food item from a photo.\n",
        "\n",
        "Dr. Amelia doesn't have much data yet but has learned that using pre-trained models for many tasks is possible, and she hopes to avoid starting her project from scratch. As a prototype, we will help Amelia develop her AI-powered food recognition system!\n",
        "\n",
        "**Note:** Dr. Amelia's cartoon was generated with AI's assistance.\n",
        "\n",
        "Amelia is a *Practicum AI* alumna and recalls the AI Application Development Pathway.\n",
        "\n",
        "![Practicum AI Application Pathway Image](https://github.com/zjims/deep-learning/blob/main/images/application_dev_pathway.png?raw=1)\n",
        "\n",
        "With her food image processing task, she has already completed Step 1: Choose a Problem! Due to the flexible nature of coding, implementing the following steps will jump around a bit. Don't worry; Amelia knows her stuff and will ensure we know where we are in the development process. Here is an overview of the steps in the application development process and how they correspond to the code in this Jupyter Notebook:\n",
        "\n",
        "1. Choose a Problem - Make a food item classifier that takes an input image and returns the predicted food object!\n",
        "2. Gather Good Data - Amelia is very busy; she doesn't have time to take thousands of food images! Instead, she will use a model that has already been trained to \"recognize\" various food items (and hundreds of other things!).\n",
        "3. Clean and Prep Data - The model she is using already has training data, so she doesn't need to worry about prepping her training data. However, she will have to work to ensure that her new inputs are formatted correctly.\n",
        "4. Choose a Model - Amelia needs a model that is already trained and recognizes images. That narrows her search to models like ResNet (though there is an ever-growing list of possibilities here!).\n",
        "5. Train the Model - Our heroine will use a pre-trained model, so... Done! She is up and running with an AI application without compiling or training anything.\n",
        "6. Evaluate the Model - As part of the evaluation process, Amelia will need to test the model to see how well it recognizes food.\n",
        "7. Deploy the Model - Amelia is comfortable using Jupyter Notebooks, so she will leave the application here for this initial proof of concept. Embedding the model in another application is unnecessary (and beyond the scope of this course!).\n",
        "\n",
        "### <img src='https://github.com/zjims/deep-learning/blob/main/images/note_icon.svg?raw=1' width=40, align='center' alt='Note icon'> Note\n",
        "\n",
        "> While you may not be looking to classify food items (or have a very different AI project in mind), note that in many cases, there are models with which you start. The relative openness of AI researchers in sharing their models has enabled the community to:\n",
        ">   * Use a trained model \"out of the box,\" as Amelia will.\n",
        ">   * Fine-tune a model with some of your data.\n",
        ">   * Use an existing model architecture and train with your data.\n",
        ">   * Modify an existing model architecture and train with your data.\n",
        "> Rarely is there a need to start from scratch!\n",
        "\n",
        "## 1. Import libraries\n",
        "\n",
        "Import the necessary libraries. For this exercise, Amelia will use the pre-trained ResNet50 model that is part of Keras: `tensorflow.keras.applications.resnet50`. Check out the [Keras documentation](https://www.tensorflow.org/api_docs/python/tf/keras/applications/resnet50/ResNet50) for more details.\n",
        "\n",
        "### <img src='https://github.com/zjims/deep-learning/blob/main/images/note_icon.svg?raw=1' width=40, align='center' alt='Note icon'> Note\n",
        "> Remember not all red is bad. Read through the output. The most likely error that you will encounter in the cell below that is a real issue is the failure to import a library. For example: `ModuleNotFoundError: No module named 'gtts'`. See the following code block on fixing that if needed. Most other warnings that we see can typically be ignored."
      ]
    },
    {
      "cell_type": "code",
      "execution_count": 11,
      "metadata": {
        "tags": [],
        "id": "f4HFvtyA9aR4"
      },
      "outputs": [],
      "source": [
        "# Import necessary libraries for image processing and deep learning.\n",
        "# The image processing functions, like img_to_array, will help Amelia format the image to run through her model.\n",
        "\n",
        "from tensorflow.keras.preprocessing.image import load_img\n",
        "from tensorflow.keras.preprocessing.image import img_to_array\n",
        "from tensorflow.keras.applications.resnet50 import ResNet50\n",
        "from tensorflow.keras.applications.resnet50 import preprocess_input\n",
        "from tensorflow.keras.applications.resnet50 import decode_predictions\n",
        "\n",
        "# Import base tensorflow and set seed to achieve consistent results.\n",
        "import tensorflow as tf\n",
        "import numpy as np\n",
        "\n",
        "# Import Google text-to-speech used later in the notebook.\n",
        "from gtts import gTTS\n",
        "import os\n",
        "\n",
        "# Set the seed for reproducibility.\n",
        "seed = 42\n",
        "\n",
        "tf.random.set_seed(seed)\n",
        "np.random.seed(seed)"
      ]
    },
    {
      "cell_type": "code",
      "execution_count": 10,
      "metadata": {
        "tags": [],
        "id": "ZmoyZZma9aR5",
        "outputId": "26e00cef-654c-4b59-eddb-1175927cd84e",
        "colab": {
          "base_uri": "https://localhost:8080/"
        }
      },
      "outputs": [
        {
          "output_type": "stream",
          "name": "stdout",
          "text": [
            "Collecting gTTS\n",
            "  Downloading gTTS-2.5.1-py3-none-any.whl (29 kB)\n",
            "Requirement already satisfied: requests<3,>=2.27 in /usr/local/lib/python3.10/dist-packages (from gTTS) (2.31.0)\n",
            "Requirement already satisfied: click<8.2,>=7.1 in /usr/local/lib/python3.10/dist-packages (from gTTS) (8.1.7)\n",
            "Requirement already satisfied: charset-normalizer<4,>=2 in /usr/local/lib/python3.10/dist-packages (from requests<3,>=2.27->gTTS) (3.3.2)\n",
            "Requirement already satisfied: idna<4,>=2.5 in /usr/local/lib/python3.10/dist-packages (from requests<3,>=2.27->gTTS) (3.6)\n",
            "Requirement already satisfied: urllib3<3,>=1.21.1 in /usr/local/lib/python3.10/dist-packages (from requests<3,>=2.27->gTTS) (2.0.7)\n",
            "Requirement already satisfied: certifi>=2017.4.17 in /usr/local/lib/python3.10/dist-packages (from requests<3,>=2.27->gTTS) (2024.2.2)\n",
            "Installing collected packages: gTTS\n",
            "Successfully installed gTTS-2.5.1\n"
          ]
        }
      ],
      "source": [
        "# If you are using a system that doesn't have gTTS you may need to install it.\n",
        "# If you get an import error, use the following code (without the hashtag, of course) to install gTTS:\n",
        "!pip install gTTS\n",
        "\n",
        "# Once installed, re-run the main import block to import everything."
      ]
    },
    {
      "cell_type": "markdown",
      "metadata": {
        "id": "puCd8VnT9aR5"
      },
      "source": [
        ">## <img src='https://github.com/zjims/deep-learning/blob/main/images/alert_icon.svg?raw=1' alt=\"Alert icon\" width=40 align=center> Did you get an error here?\n",
        ">\n",
        ">If you got an error running the cell above, it is probably because the environment you are working in doesn't have `numpy` or `pandas` installed.\n",
        ">\n",
        ">### For Google Colab\n",
        ">\n",
        ">On Google Colab, this shouldn't be an issue (for these libraries), and if you do run into this in the future, it is generally OK (and expected in Colab) to use `!pip install ___` to install a library. In Colab, each notebook is independent of other notebooks, so the installation of packages has limited impact. But, be especially careful doing this on HPC systems; installing things that cause compatibility issues is easy.\n",
        ">\n",
        ">### For Jupyter on HPC systems\n",
        ">\n",
        ">For most of what the *Practicum AI* courses cover, an environment (known as a **kernel**) will be ready for you to use. Check the kernel if you run into an error about a missing library. The current kernel is shown in the top right of the notebook:\n",
        ">\n",
        ">![Screenshot of a Jupyter notebook showing the currently selected kernel](https://github.com/zjims/deep-learning/blob/main/images/kernel.png?raw=1)\n",
        ">\n",
        ">For this notebook on HiPerGator, we will use the **Tensorflow-2.15** kernel."
      ]
    },
    {
      "cell_type": "markdown",
      "metadata": {
        "id": "Fp3sEBMp9aR5"
      },
      "source": [
        "## 2. Instantiate the Resnet50 model\n",
        "\n",
        "Instantiating is a programming term that means taking the 'blueprint' of something (in this case, ResNet50) and making an object out of it (the model we will use here). This step creates the instance of the model to use.\n",
        "\n",
        "### <img src='https://github.com/zjims/deep-learning/blob/main/images/note_icon.svg?raw=1' width=40, align='center' alt='Note icon'> Some Background on ResNet\n",
        "> ResNet, which stands for Residual Network, won the 2015 ImageNet competition. It was introduced to address the vanishing gradient problem commonly faced when training very deep neural networks. As networks become deeper, gradients (the values used to update network weights) can become extremely small, effectively halting training.\n",
        "> ResNet introduces the concept of \"residual blocks.\"  As it processes data, instead of relying solely on the current \"thought\" or layer, it can also \"refer back\" to earlier layers, much like using recent memories to help recall older ones. These \"references back\" are called skip connections. They act like bridges, letting the network jump over some layers to ensure that even as it delves deeper into processing, it remembers and retains important early details. This shortcut or skip connection allows gradients to propagate more easily through the network.\n",
        "> This architectural innovation has enabled the training of networks with depths previously thought infeasible. With hundreds or even thousands of layers, ResNet models have achieved state-of-the-art performance on many image classification benchmarks.\n",
        "> In this unit’s exercise, we used the ResNet50 model, which, as its name suggests, consists of 50 layers.\n",
        "\n",
        "```python\n",
        "# Create an instance of the ResNet50 model pre-trained on ImageNet data\n",
        "my_model = ResNet50()\n",
        "```"
      ]
    },
    {
      "cell_type": "code",
      "execution_count": 12,
      "metadata": {
        "id": "rDtigkJw9aR6"
      },
      "outputs": [],
      "source": [
        "# Code it!\n",
        "my_model = ResNet50()"
      ]
    },
    {
      "cell_type": "markdown",
      "metadata": {
        "id": "cWGFF4PX9aR6"
      },
      "source": [
        "## 3. Load image\n",
        "\n",
        "While developing her system, Amelia will use a test image of her favorite pizza to test the system. Let's load in her pizza image.\n",
        "\n",
        "Since ResNet50 was trained using images that are 224X224 pixels, we need to transform the input image to be the same size.\n",
        "\n",
        "### <img src='https://github.com/zjims/deep-learning/blob/main/images/tip_icon.svg?raw=1' width=40, align='center' alt='Tip icon'> Tip\n",
        "> The pizza image is stored in the images folder; the complete path of the\n",
        "> location where the image is located must be given.\n",
        "\n",
        "\n",
        "```python\n",
        "# Load an image file for testing, resizing it to the required input size of 224x224 pixels\n",
        "my_image = load_img('images/pizza.jpg', target_size = (224, 224))\n",
        "```\n",
        "\n",
        "\n",
        "> If running on Google Colab, you have a couple of choices:\n",
        ">\n",
        "> 1. Change the `'images/pizza.jpg'` to use the web location of the\n",
        "> image in this repository:\n",
        "> `'https://raw.githubusercontent.com/PracticumAI/deep_learning/main/images/pizza.jpg'`\n",
        "> 1. Find any image of pizza, and upload it using the Files tab as in\n",
        "> the image below. Then right click and \"Copy path\", and use that path. [Click here](images/colab_img_upload.png) to see an screenshot of this if needed."
      ]
    },
    {
      "cell_type": "code",
      "execution_count": 13,
      "metadata": {
        "id": "BOxqSZ1h9aR6"
      },
      "outputs": [],
      "source": [
        "# Code it!\n",
        "my_image = load_img('/pizza.jpg', target_size = (224, 224))"
      ]
    },
    {
      "cell_type": "markdown",
      "metadata": {
        "id": "tuBZ2B4Q9aR7"
      },
      "source": [
        "## 4. View the pizza image\n",
        "\n",
        "Let's take a quick look at the image to verify that it's a pizza.  Type the variable name and run the code block.\n",
        "\n",
        "```python\n",
        "my_image\n",
        "```"
      ]
    },
    {
      "cell_type": "code",
      "execution_count": 14,
      "metadata": {
        "id": "UpPzPvmB9aR7",
        "outputId": "5a9d0b19-8b0c-4e4b-aec5-54569d72fe12",
        "colab": {
          "base_uri": "https://localhost:8080/",
          "height": 241
        }
      },
      "outputs": [
        {
          "output_type": "execute_result",
          "data": {
            "text/plain": [
              "<PIL.Image.Image image mode=RGB size=224x224>"
            ],
            "image/png": "[encoded data removed]"
          },
          "metadata": {},
          "execution_count": 14
        }
      ],
      "source": [
        "# Code it!\n",
        "my_image\n"
      ]
    },
    {
      "cell_type": "markdown",
      "metadata": {
        "id": "M2CFhhmZ9aR7"
      },
      "source": [
        "## 5. Convert image to array\n",
        "\n",
        "Convert the image to an array because the model expects it in this format. Take a quick look at the output too.\n",
        "\n",
        "```python\n",
        "# Convert the loaded image to an array format suitable for processing\n",
        "my_image = img_to_array(my_image)\n",
        "# View what my_image looks like now\n",
        "my_image\n",
        "```"
      ]
    },
    {
      "cell_type": "code",
      "execution_count": 15,
      "metadata": {
        "id": "Zaa7DYcQ9aR7",
        "outputId": "2c60f1a5-e67a-41ce-c3cc-afd25cdaffec",
        "colab": {
          "base_uri": "https://localhost:8080/"
        }
      },
      "outputs": [
        {
          "output_type": "execute_result",
          "data": {
            "text/plain": [
              "array([[[ 70.,  42.,  41.],\n",
              "        [ 85.,  54.,  49.],\n",
              "        [ 64.,  42.,  44.],\n",
              "        ...,\n",
              "        [ 93.,  70.,  56.],\n",
              "        [ 83.,  64.,  50.],\n",
              "        [104.,  75.,  57.]],\n",
              "\n",
              "       [[ 61.,  35.,  34.],\n",
              "        [ 72.,  43.,  39.],\n",
              "        [ 73.,  43.,  43.],\n",
              "        ...,\n",
              "        [ 86.,  64.,  51.],\n",
              "        [ 77.,  59.,  49.],\n",
              "        [ 93.,  70.,  54.]],\n",
              "\n",
              "       [[ 83.,  48.,  44.],\n",
              "        [ 67.,  43.,  41.],\n",
              "        [ 90.,  52.,  49.],\n",
              "        ...,\n",
              "        [ 74.,  57.,  49.],\n",
              "        [ 71.,  54.,  44.],\n",
              "        [ 95.,  68.,  49.]],\n",
              "\n",
              "       ...,\n",
              "\n",
              "       [[ 85.,  56.,  40.],\n",
              "        [139., 105.,  80.],\n",
              "        [110.,  79.,  61.],\n",
              "        ...,\n",
              "        [ 31.,  23.,  20.],\n",
              "        [ 19.,  18.,  16.],\n",
              "        [ 42.,  33.,  28.]],\n",
              "\n",
              "       [[ 99.,  66.,  49.],\n",
              "        [148., 108.,  82.],\n",
              "        [ 99.,  73.,  56.],\n",
              "        ...,\n",
              "        [ 32.,  24.,  21.],\n",
              "        [ 21.,  20.,  18.],\n",
              "        [ 38.,  29.,  24.]],\n",
              "\n",
              "       [[ 90.,  61.,  47.],\n",
              "        [146., 109.,  82.],\n",
              "        [147., 110.,  83.],\n",
              "        ...,\n",
              "        [ 36.,  27.,  22.],\n",
              "        [ 24.,  20.,  17.],\n",
              "        [ 52.,  35.,  25.]]], dtype=float32)"
            ]
          },
          "metadata": {},
          "execution_count": 15
        }
      ],
      "source": [
        "# Code it!\n",
        "my_image = img_to_array(my_image)\n",
        "my_image"
      ]
    },
    {
      "cell_type": "markdown",
      "metadata": {
        "id": "KqVyVp7d9aR8"
      },
      "source": [
        "## 6. Reshape image\n",
        "\n",
        "Reshape the image.  All images fed to this model need to be 224 pixels high and 224 pixels wide, with 3 channels, one for each color (red, green, blue).  If our image was grayscale, how many channels would we specify?\n",
        "\n",
        "```python\n",
        "# Reshape the image array to the format the model expects (batch size, height, width, color channels)\n",
        "my_image = my_image.reshape((1, 224, 224, 3))\n",
        "```"
      ]
    },
    {
      "cell_type": "code",
      "execution_count": 16,
      "metadata": {
        "id": "y4zBNcFq9aR8"
      },
      "outputs": [],
      "source": [
        "# Code it!\n",
        "my_image = my_image.reshape((1, 224, 224, 3))"
      ]
    },
    {
      "cell_type": "markdown",
      "metadata": {
        "id": "w8ZACrLf9aR8"
      },
      "source": [
        "## 7. Preprocess image\n",
        "\n",
        "Execute the *preprocess_input()* function, which we imported from `tensorflow.keras.applications.resnet50`,  with the image as input.\n",
        "\n",
        "```python\n",
        "# Preprocess the image to ensure its values are appropriate for the ResNet50 model\n",
        "my_image = preprocess_input(my_image)\n",
        "# View the output\n",
        "my_image\n",
        "```"
      ]
    },
    {
      "cell_type": "code",
      "execution_count": 17,
      "metadata": {
        "id": "AM9qrHNJ9aR8",
        "outputId": "e75f9e51-ecbd-4112-dbf6-649b7bdc32ea",
        "colab": {
          "base_uri": "https://localhost:8080/"
        }
      },
      "outputs": [
        {
          "output_type": "execute_result",
          "data": {
            "text/plain": [
              "array([[[[ -62.939003 ,  -74.779    ,  -53.68     ],\n",
              "         [ -54.939003 ,  -62.779    ,  -38.68     ],\n",
              "         [ -59.939003 ,  -74.779    ,  -59.68     ],\n",
              "         ...,\n",
              "         [ -47.939003 ,  -46.779    ,  -30.68     ],\n",
              "         [ -53.939003 ,  -52.779    ,  -40.68     ],\n",
              "         [ -46.939003 ,  -41.779    ,  -19.68     ]],\n",
              "\n",
              "        [[ -69.939    ,  -81.779    ,  -62.68     ],\n",
              "         [ -64.939    ,  -73.779    ,  -51.68     ],\n",
              "         [ -60.939003 ,  -73.779    ,  -50.68     ],\n",
              "         ...,\n",
              "         [ -52.939003 ,  -52.779    ,  -37.68     ],\n",
              "         [ -54.939003 ,  -57.779    ,  -46.68     ],\n",
              "         [ -49.939003 ,  -46.779    ,  -30.68     ]],\n",
              "\n",
              "        [[ -59.939003 ,  -68.779    ,  -40.68     ],\n",
              "         [ -62.939003 ,  -73.779    ,  -56.68     ],\n",
              "         [ -54.939003 ,  -64.779    ,  -33.68     ],\n",
              "         ...,\n",
              "         [ -54.939003 ,  -59.779    ,  -49.68     ],\n",
              "         [ -59.939003 ,  -62.779    ,  -52.68     ],\n",
              "         [ -54.939003 ,  -48.779    ,  -28.68     ]],\n",
              "\n",
              "        ...,\n",
              "\n",
              "        [[ -63.939003 ,  -60.779    ,  -38.68     ],\n",
              "         [ -23.939003 ,  -11.778999 ,   15.32     ],\n",
              "         [ -42.939003 ,  -37.779    ,  -13.68     ],\n",
              "         ...,\n",
              "         [ -83.939    ,  -93.779    ,  -92.68     ],\n",
              "         [ -87.939    ,  -98.779    , -104.68     ],\n",
              "         [ -75.939    ,  -83.779    ,  -81.68     ]],\n",
              "\n",
              "        [[ -54.939003 ,  -50.779    ,  -24.68     ],\n",
              "         [ -21.939003 ,   -8.778999 ,   24.32     ],\n",
              "         [ -47.939003 ,  -43.779    ,  -24.68     ],\n",
              "         ...,\n",
              "         [ -82.939    ,  -92.779    ,  -91.68     ],\n",
              "         [ -85.939    ,  -96.779    , -102.68     ],\n",
              "         [ -79.939    ,  -87.779    ,  -85.68     ]],\n",
              "\n",
              "        [[ -56.939003 ,  -55.779    ,  -33.68     ],\n",
              "         [ -21.939003 ,   -7.7789993,   22.32     ],\n",
              "         [ -20.939003 ,   -6.7789993,   23.32     ],\n",
              "         ...,\n",
              "         [ -81.939    ,  -89.779    ,  -87.68     ],\n",
              "         [ -86.939    ,  -96.779    ,  -99.68     ],\n",
              "         [ -78.939    ,  -81.779    ,  -71.68     ]]]], dtype=float32)"
            ]
          },
          "metadata": {},
          "execution_count": 17
        }
      ],
      "source": [
        "# Code it!\n",
        "my_image = preprocess_input(my_image)\n",
        "my_image"
      ]
    },
    {
      "cell_type": "markdown",
      "metadata": {
        "id": "PfotXggx9aR8"
      },
      "source": [
        "### <img src='https://github.com/zjims/deep-learning/blob/main/images/note_icon.svg?raw=1' width=40, align='center' alt='Note icon'> What is returned by `preprocess_input()`?\n",
        "\n",
        "> From the documentation, you will see that the `tensorflow.keras.applications.resnet50.preprocess_input` function returns:\n",
        ">  > The images are converted from RGB to BGR, then each color channel is zero-centered with respect to the ImageNet dataset, without scaling.\n",
        ">\n",
        "> Again, this function is designed to get input images into the format that was used in training the model. It's a bit of an odd format (non-standard color channel order and not scaled), but that's what was used during training, so that is what we need to use at inference time."
      ]
    },
    {
      "cell_type": "markdown",
      "metadata": {
        "id": "6QNOxM1U9aR8"
      },
      "source": [
        "## 8. Execute predict method\n",
        "\n",
        "Execute the model's predict method.\n",
        "\n",
        "```python\n",
        "# Use the model to predict the class (or category) of the image\n",
        "my_result = my_model.predict(my_image)\n",
        "# View the result\n",
        "my_result\n",
        "```"
      ]
    },
    {
      "cell_type": "code",
      "execution_count": 18,
      "metadata": {
        "id": "qTRyzbBE9aR8",
        "outputId": "426de825-9b65-4231-84a0-f3903b80d97c",
        "colab": {
          "base_uri": "https://localhost:8080/"
        }
      },
      "outputs": [
        {
          "output_type": "stream",
          "name": "stdout",
          "text": [
            "1/1 [==============================] - 3s 3s/step\n"
          ]
        },
        {
          "output_type": "execute_result",
          "data": {
            "text/plain": [
              "array([[7.48175388e-09, 1.81928126e-08, 3.96919823e-12, 2.90530143e-12,\n",
              "        6.19740578e-11, 7.89470572e-11, 1.47677190e-10, 1.02965393e-10,\n",
              "        2.89856833e-10, 2.73751664e-11, 2.55629462e-10, 1.47381440e-10,\n",
              "        4.59587302e-09, 1.33094280e-09, 6.78992529e-10, 1.09030041e-09,\n",
              "        7.05252393e-12, 4.69081973e-09, 9.21908860e-09, 7.96429644e-10,\n",
              "        1.75415238e-13, 6.45036672e-12, 8.42232013e-12, 4.73982138e-11,\n",
              "        4.42775989e-11, 1.10618026e-09, 2.50117635e-11, 2.19977192e-09,\n",
              "        4.35277059e-09, 2.09149892e-10, 1.40237280e-10, 3.88316157e-10,\n",
              "        2.11073908e-10, 8.60926955e-11, 2.92308400e-11, 4.89602492e-09,\n",
              "        1.98985073e-09, 4.19727790e-08, 1.56815519e-10, 5.64246641e-08,\n",
              "        6.30664854e-10, 6.33263719e-10, 5.66355363e-09, 8.66891092e-09,\n",
              "        1.58540903e-10, 2.59051058e-10, 2.05948658e-09, 2.37729147e-09,\n",
              "        2.03188064e-10, 2.06472357e-11, 3.36574102e-10, 1.20158078e-10,\n",
              "        1.02767433e-10, 8.91843210e-10, 1.08712186e-08, 2.24606028e-10,\n",
              "        7.89327562e-11, 8.13349735e-11, 5.39638001e-10, 5.48694701e-10,\n",
              "        3.48479134e-09, 8.96367591e-10, 1.61230571e-10, 4.55325666e-10,\n",
              "        3.23886418e-10, 9.41801220e-11, 2.67065172e-11, 6.23274987e-09,\n",
              "        2.79912291e-11, 6.46429854e-11, 4.95156449e-09, 3.84585208e-09,\n",
              "        6.45480391e-10, 2.56455301e-10, 1.34135396e-08, 4.31472080e-10,\n",
              "        2.93646654e-08, 1.53748503e-09, 4.14172502e-10, 8.08939193e-10,\n",
              "        2.95731321e-12, 7.04596277e-12, 5.13295406e-10, 2.89706735e-12,\n",
              "        8.14251888e-10, 1.08359166e-09, 3.14822085e-10, 2.41065473e-10,\n",
              "        1.26078384e-10, 2.64021860e-10, 6.14620188e-10, 1.25649866e-10,\n",
              "        6.61710010e-12, 2.28761499e-09, 3.25087096e-10, 1.84598257e-12,\n",
              "        7.81499143e-10, 1.05554017e-10, 1.77975175e-13, 1.41642583e-11,\n",
              "        9.62259092e-12, 2.49197801e-10, 3.54162533e-10, 3.80416337e-10,\n",
              "        5.13310117e-10, 2.69976902e-10, 1.32682074e-10, 1.31765099e-10,\n",
              "        4.81333584e-10, 1.71467649e-11, 7.20169757e-12, 8.70777894e-11,\n",
              "        1.10473586e-09, 1.75780301e-09, 3.12944204e-09, 5.53468417e-11,\n",
              "        8.22067747e-08, 2.44779175e-09, 1.56329816e-06, 5.84234215e-07,\n",
              "        2.46698384e-10, 9.85059856e-08, 2.12594120e-08, 9.09562971e-07,\n",
              "        4.59420335e-07, 4.66515659e-10, 4.63021149e-10, 4.37077805e-11,\n",
              "        9.89737806e-12, 3.76580364e-12, 6.70166787e-12, 2.17104335e-10,\n",
              "        1.94220490e-11, 4.32746061e-11, 2.59451099e-10, 7.82590590e-11,\n",
              "        3.41196689e-11, 6.67914465e-12, 2.56286953e-11, 7.34937528e-11,\n",
              "        6.70560968e-11, 1.25361039e-12, 3.19317354e-13, 1.97841114e-12,\n",
              "        1.07781644e-12, 1.79746159e-12, 2.60999257e-13, 5.87201641e-12,\n",
              "        5.53339362e-12, 1.97401232e-12, 4.28089009e-10, 5.36009681e-10,\n",
              "        1.84888931e-12, 2.55680529e-11, 5.40741452e-10, 3.87116117e-09,\n",
              "        4.07973849e-10, 5.27213412e-11, 3.29417431e-11, 3.78937015e-09,\n",
              "        7.38856060e-11, 1.94962246e-09, 6.83371315e-09, 1.67081282e-09,\n",
              "        8.28351721e-10, 5.54866042e-10, 5.34152965e-11, 5.92870544e-11,\n",
              "        1.21673105e-09, 7.81351650e-10, 8.52038509e-11, 1.15044890e-10,\n",
              "        3.59809578e-11, 3.00180089e-11, 1.74877735e-09, 1.17404614e-10,\n",
              "        2.67445566e-10, 1.51074611e-10, 4.29956376e-10, 2.27867880e-09,\n",
              "        1.27183197e-09, 1.09851754e-11, 2.54822496e-09, 1.68409314e-10,\n",
              "        9.84969617e-08, 5.74154990e-09, 1.78443937e-09, 4.64260130e-10,\n",
              "        2.68221556e-10, 1.66621206e-08, 1.13028597e-11, 4.57958826e-09,\n",
              "        6.09761575e-10, 6.85607704e-09, 1.14233523e-09, 6.03680705e-09,\n",
              "        1.29009178e-10, 5.70027602e-11, 5.24899672e-11, 1.92760974e-10,\n",
              "        2.49965632e-10, 1.30026212e-10, 3.58221985e-09, 3.51735696e-10,\n",
              "        2.20236135e-10, 9.99188621e-10, 1.10982737e-10, 1.23606981e-07,\n",
              "        2.92591658e-08, 3.74981912e-09, 4.61391559e-12, 2.63113598e-09,\n",
              "        1.79142690e-09, 6.90371138e-09, 1.35334355e-10, 2.26048891e-09,\n",
              "        1.37590675e-10, 8.07621081e-10, 1.79796500e-09, 1.35724578e-08,\n",
              "        2.07847206e-09, 1.30544839e-10, 1.61014535e-10, 3.66379788e-10,\n",
              "        6.40887343e-10, 5.58796787e-10, 1.15437250e-10, 3.26321470e-10,\n",
              "        1.27471332e-11, 1.21953239e-10, 8.40770675e-10, 5.14166543e-10,\n",
              "        3.11489806e-10, 1.01049773e-10, 4.32376845e-09, 8.20827573e-10,\n",
              "        2.44530440e-09, 4.66599315e-10, 2.15143925e-09, 6.40973472e-12,\n",
              "        2.94861413e-10, 4.97703267e-10, 2.68278871e-10, 2.17790030e-09,\n",
              "        8.74545835e-12, 1.31045341e-09, 3.04996972e-10, 9.47350254e-11,\n",
              "        4.11196355e-10, 2.50889393e-10, 3.51625173e-09, 7.82664156e-10,\n",
              "        4.37902249e-11, 7.38621164e-10, 2.41967557e-09, 1.37879741e-09,\n",
              "        2.18566965e-09, 6.86499399e-11, 3.46487179e-11, 4.90361307e-09,\n",
              "        4.96804375e-09, 4.02358008e-10, 9.03197961e-10, 7.03160818e-09,\n",
              "        1.45868817e-09, 7.65981722e-10, 3.27233324e-10, 1.64488645e-10,\n",
              "        2.49270379e-11, 4.98368916e-11, 5.30692122e-11, 3.28562177e-11,\n",
              "        4.69555055e-11, 4.31337133e-10, 2.39236790e-11, 3.82422601e-11,\n",
              "        5.91341420e-11, 1.73332260e-09, 3.65778449e-11, 3.48949689e-11,\n",
              "        2.06086884e-10, 2.73160006e-09, 6.47969003e-08, 1.15983756e-09,\n",
              "        3.13970161e-09, 2.46969112e-10, 4.43106551e-10, 8.58446425e-10,\n",
              "        5.61996699e-11, 1.58687837e-11, 7.56377599e-11, 2.94118313e-10,\n",
              "        8.42830639e-10, 3.42951813e-11, 2.46869157e-11, 4.07962913e-10,\n",
              "        1.40407347e-12, 5.61209343e-11, 2.55487975e-11, 2.08201414e-10,\n",
              "        7.16150195e-10, 3.78333087e-10, 1.02137465e-09, 9.48764733e-10,\n",
              "        3.40004108e-10, 1.04519104e-09, 3.17383897e-10, 3.20661164e-10,\n",
              "        1.46177970e-09, 5.74855941e-10, 7.80538745e-09, 5.07072828e-09,\n",
              "        3.61070818e-09, 1.97290237e-08, 2.63698183e-07, 2.87307422e-09,\n",
              "        3.89810895e-09, 1.40269366e-10, 6.13945284e-10, 7.02588043e-10,\n",
              "        3.96261912e-11, 1.88494131e-09, 8.15233211e-12, 3.26485994e-09,\n",
              "        9.36845670e-11, 3.02861930e-10, 6.22801644e-10, 6.96599445e-10,\n",
              "        2.36106104e-08, 1.06591500e-10, 5.41753198e-10, 1.19737331e-10,\n",
              "        3.53315099e-10, 4.34097487e-08, 8.51517878e-09, 1.31295391e-11,\n",
              "        7.23665832e-12, 7.94607324e-10, 2.14012381e-08, 2.15912010e-11,\n",
              "        1.17376118e-11, 2.51718268e-09, 3.59532626e-10, 2.18140662e-11,\n",
              "        2.13855756e-11, 4.61983757e-10, 2.99732267e-10, 2.02578475e-11,\n",
              "        1.87304096e-11, 2.86588895e-12, 1.63948889e-11, 2.80089472e-12,\n",
              "        3.68912279e-12, 1.73741854e-11, 2.11241354e-11, 1.66635955e-10,\n",
              "        4.00894901e-10, 2.26885784e-11, 7.12138792e-10, 2.67260436e-10,\n",
              "        9.40788628e-11, 4.84498708e-09, 9.51766332e-10, 1.89462646e-09,\n",
              "        1.13628919e-10, 2.67039807e-10, 5.07386737e-11, 1.07107864e-11,\n",
              "        3.13145260e-10, 1.63294367e-12, 6.99512254e-11, 4.13719857e-11,\n",
              "        7.43811783e-12, 2.11853951e-10, 3.51008556e-10, 3.65070300e-11,\n",
              "        6.40536568e-10, 4.48757316e-11, 9.99725649e-11, 1.76192769e-10,\n",
              "        6.62485761e-11, 2.10604503e-11, 3.73324649e-10, 7.04630174e-11,\n",
              "        4.54170070e-11, 8.14518661e-11, 2.32847300e-11, 1.74721693e-09,\n",
              "        3.27728650e-10, 3.21311172e-11, 6.10833661e-10, 6.31260599e-10,\n",
              "        1.74129322e-11, 4.37630869e-11, 5.74901498e-12, 6.39057279e-11,\n",
              "        2.64165939e-10, 3.60614837e-11, 2.33748620e-09, 7.00966715e-11,\n",
              "        7.50625603e-12, 4.11638917e-10, 1.97092298e-09, 1.15586888e-13,\n",
              "        3.61306884e-14, 5.97084719e-13, 1.30728601e-08, 7.61505876e-12,\n",
              "        9.82511468e-12, 1.93201191e-10, 6.27877916e-10, 1.13496959e-07,\n",
              "        1.20721879e-05, 8.51928472e-10, 6.88081059e-09, 2.33462265e-06,\n",
              "        3.41841421e-12, 3.53618315e-11, 4.32820307e-11, 3.04481412e-10,\n",
              "        1.09120862e-07, 2.47196708e-10, 2.54688597e-11, 3.00537151e-10,\n",
              "        8.60015618e-12, 3.92327593e-09, 5.34818967e-10, 1.61412045e-05,\n",
              "        3.34771874e-04, 3.93936342e-11, 5.09080018e-12, 1.91257166e-11,\n",
              "        1.71542554e-11, 3.66632662e-11, 3.90053718e-11, 1.44679291e-09,\n",
              "        1.64812972e-11, 1.29266754e-11, 2.75001914e-11, 7.48525374e-12,\n",
              "        1.57345614e-09, 2.49234855e-10, 1.47230006e-10, 1.50873198e-08,\n",
              "        2.36113074e-10, 3.65505931e-10, 4.98675060e-11, 5.31380877e-11,\n",
              "        3.04504368e-08, 2.06817341e-10, 5.17846963e-12, 2.15558877e-08,\n",
              "        2.08415791e-08, 3.52818996e-09, 1.46109402e-09, 1.45248675e-08,\n",
              "        1.54954061e-09, 1.31758882e-09, 3.09615373e-08, 7.12783929e-11,\n",
              "        1.24584398e-09, 2.71965540e-11, 9.56952828e-09, 1.65772781e-06,\n",
              "        2.82268364e-09, 3.72222392e-11, 1.68851706e-12, 1.20581831e-07,\n",
              "        2.03800050e-11, 3.70199268e-05, 3.99835942e-09, 1.85280524e-11,\n",
              "        1.64883343e-08, 1.86395854e-09, 8.97048269e-10, 8.56310689e-10,\n",
              "        9.03473740e-10, 2.55492381e-11, 1.38070266e-09, 1.63153199e-10,\n",
              "        5.20505999e-11, 1.41280621e-09, 1.54065469e-10, 4.55330912e-10,\n",
              "        1.30797174e-12, 2.90784369e-10, 2.77634055e-10, 1.86679507e-08,\n",
              "        6.82023216e-10, 8.23804847e-09, 3.07039706e-11, 8.97706770e-11,\n",
              "        2.08323208e-08, 3.20557830e-10, 1.24541155e-09, 7.36662731e-10,\n",
              "        1.37008593e-09, 6.67436639e-09, 1.89016414e-10, 2.68193958e-06,\n",
              "        4.02483706e-11, 7.08583123e-11, 2.30391830e-08, 9.14761392e-11,\n",
              "        1.81171149e-08, 4.98831643e-09, 2.70964584e-08, 1.95529315e-10,\n",
              "        2.46559750e-09, 6.83336410e-08, 1.94371307e-11, 6.93992780e-12,\n",
              "        2.58127741e-10, 5.26241932e-11, 1.37242684e-09, 1.07540932e-09,\n",
              "        7.76206210e-10, 9.20545671e-12, 1.78726667e-09, 2.29905567e-07,\n",
              "        1.89160233e-11, 1.05296904e-05, 5.01854669e-10, 3.75672693e-09,\n",
              "        2.29183582e-11, 2.87801583e-09, 6.24839555e-11, 2.30219281e-11,\n",
              "        1.05411024e-09, 4.53116461e-10, 2.77757851e-11, 2.81074313e-11,\n",
              "        5.31509158e-07, 1.90485299e-08, 2.69587738e-11, 1.56165948e-11,\n",
              "        1.34127334e-10, 4.15183643e-12, 4.37576003e-10, 3.32020790e-07,\n",
              "        2.19499193e-11, 2.22502328e-09, 9.79127820e-11, 9.48510992e-11,\n",
              "        7.78692367e-04, 1.79864998e-10, 5.31620659e-09, 7.76945674e-13,\n",
              "        2.50259830e-11, 5.83457782e-10, 4.05861586e-12, 4.12089834e-10,\n",
              "        2.07453402e-10, 8.95189894e-11, 2.70519935e-12, 3.55497489e-12,\n",
              "        2.16061792e-07, 2.10720226e-11, 5.01191755e-10, 6.80873995e-07,\n",
              "        3.08132686e-11, 4.68371661e-11, 4.09703063e-08, 2.36559678e-11,\n",
              "        2.21832136e-11, 2.56875965e-09, 8.22671931e-11, 1.12648960e-03,\n",
              "        7.32812699e-11, 1.38558125e-08, 3.98663769e-10, 3.25187743e-09,\n",
              "        5.77332981e-09, 1.44030465e-11, 2.12245177e-09, 4.63064476e-10,\n",
              "        3.18950333e-09, 1.04829825e-08, 6.90609481e-09, 2.51169130e-09,\n",
              "        7.47365618e-08, 3.05662606e-10, 1.83965244e-06, 2.08160503e-10,\n",
              "        1.17560406e-09, 3.67152114e-10, 3.09235415e-11, 2.34404496e-09,\n",
              "        1.18523358e-09, 1.13251852e-09, 5.13623276e-11, 3.50371065e-10,\n",
              "        5.96460078e-12, 2.82474488e-10, 4.53755561e-10, 7.08044109e-11,\n",
              "        7.04137904e-09, 4.93833863e-10, 4.42748095e-11, 2.07916087e-10,\n",
              "        8.67545591e-10, 8.07340750e-10, 5.91309553e-12, 1.19732765e-10,\n",
              "        2.93263497e-10, 1.21693003e-10, 8.66149791e-11, 5.20833545e-08,\n",
              "        4.62722777e-10, 4.31910722e-11, 2.85721391e-10, 7.24597214e-07,\n",
              "        1.13379151e-09, 7.46037121e-11, 4.86170784e-08, 2.04257306e-11,\n",
              "        1.57690059e-11, 3.17296571e-11, 2.71336717e-06, 5.09977793e-09,\n",
              "        6.05949457e-10, 3.63136756e-08, 4.78539164e-09, 5.54905233e-10,\n",
              "        9.96147262e-11, 5.01042402e-11, 4.34971703e-09, 1.44745188e-10,\n",
              "        3.30901695e-11, 1.85641693e-11, 2.62330868e-09, 1.88224405e-08,\n",
              "        6.95451086e-10, 9.34237354e-10, 4.76801203e-11, 1.36732334e-10,\n",
              "        1.33430360e-08, 1.17317205e-08, 1.82093091e-11, 3.10186495e-11,\n",
              "        6.34636477e-09, 5.62247859e-10, 3.99602990e-11, 5.41724487e-09,\n",
              "        2.76437068e-11, 2.16660870e-10, 2.80766937e-10, 5.93210203e-10,\n",
              "        4.03934178e-11, 7.03929359e-10, 1.13369786e-10, 3.68377222e-08,\n",
              "        8.42153708e-11, 2.28373281e-07, 3.17094045e-10, 9.01990774e-11,\n",
              "        7.77535369e-10, 2.26187428e-12, 6.69368116e-09, 2.33573383e-06,\n",
              "        1.16692500e-09, 8.28755883e-11, 1.99663116e-11, 9.15251833e-11,\n",
              "        4.37576836e-10, 2.90271751e-10, 9.69000240e-08, 6.39246545e-10,\n",
              "        3.31089253e-11, 1.30828501e-10, 7.43133222e-10, 3.01164788e-11,\n",
              "        3.92058830e-10, 2.50629711e-10, 5.95764549e-11, 9.37338401e-12,\n",
              "        1.50800539e-10, 7.35811745e-10, 1.81141602e-10, 6.09176354e-08,\n",
              "        9.78584054e-12, 4.82325235e-10, 9.96953631e-10, 8.48664958e-11,\n",
              "        1.29349009e-09, 9.95205307e-11, 7.01557519e-12, 1.39771014e-10,\n",
              "        1.16385191e-11, 3.70067553e-11, 1.33642464e-09, 7.29318342e-11,\n",
              "        4.12821919e-08, 1.02971249e-07, 1.87560401e-11, 6.01293626e-10,\n",
              "        8.90334384e-09, 1.41806939e-11, 5.95445290e-11, 5.38875833e-10,\n",
              "        3.12810684e-08, 5.39948078e-13, 2.25650404e-13, 1.09864743e-07,\n",
              "        9.59126889e-10, 7.05766435e-12, 1.35975915e-08, 4.75423867e-10,\n",
              "        3.31059097e-10, 6.57905008e-10, 4.67121364e-09, 3.49414525e-11,\n",
              "        7.84590781e-10, 4.97374641e-11, 6.21099339e-10, 5.28121991e-12,\n",
              "        4.40006893e-08, 8.87542678e-11, 7.03379133e-10, 1.91730139e-11,\n",
              "        1.17727064e-10, 1.20430244e-09, 1.85162621e-10, 8.92946606e-09,\n",
              "        6.26625921e-12, 1.79746191e-08, 5.33514843e-10, 3.26552452e-10,\n",
              "        6.61763124e-08, 9.48986045e-09, 4.84391971e-11, 4.14071577e-09,\n",
              "        1.55380969e-11, 8.76165373e-12, 1.05791854e-10, 1.96507854e-09,\n",
              "        4.08466490e-11, 2.11722773e-09, 3.00298125e-05, 6.98865410e-11,\n",
              "        2.00998374e-09, 1.14224689e-11, 9.63200719e-09, 5.73064426e-12,\n",
              "        5.90633185e-12, 5.41599994e-11, 1.80512841e-10, 4.44829590e-11,\n",
              "        2.88988211e-08, 2.62610200e-09, 2.05613374e-10, 1.61966534e-11,\n",
              "        4.35810410e-09, 2.01343220e-10, 7.12483475e-11, 1.05690207e-10,\n",
              "        3.98019693e-05, 2.57957461e-10, 6.47527632e-09, 1.07711257e-10,\n",
              "        3.15025728e-10, 4.31334879e-09, 3.33071966e-06, 1.32737002e-10,\n",
              "        1.31173322e-10, 9.99660443e-08, 1.92212678e-06, 1.04303233e-09,\n",
              "        5.23806554e-11, 1.35385871e-08, 6.49832355e-10, 6.38898795e-11,\n",
              "        2.42688136e-09, 3.70621667e-09, 1.97358241e-09, 1.14547261e-09,\n",
              "        8.31845981e-10, 1.35595590e-10, 1.04846016e-08, 1.41025402e-09,\n",
              "        1.60005672e-11, 5.84600354e-11, 2.05127360e-09, 8.10916612e-10,\n",
              "        1.00792463e-09, 1.31709015e-07, 1.51727320e-09, 2.09992623e-09,\n",
              "        5.54873196e-11, 2.56662774e-10, 5.15548813e-08, 2.42050646e-09,\n",
              "        4.22045403e-08, 2.13201401e-10, 1.22199065e-11, 1.07438656e-12,\n",
              "        1.28197994e-10, 5.00787523e-10, 8.65766226e-12, 5.61478086e-11,\n",
              "        9.11441145e-09, 9.47838197e-11, 1.45167862e-11, 1.17598414e-11,\n",
              "        5.01916197e-09, 6.56492305e-10, 6.16399065e-09, 7.02047864e-11,\n",
              "        7.04289294e-10, 1.01952628e-06, 7.46101167e-11, 2.08542017e-10,\n",
              "        7.35144671e-12, 4.96599870e-03, 7.32466876e-13, 3.78067089e-09,\n",
              "        1.08412141e-08, 4.94745737e-13, 2.37122788e-09, 1.35520276e-11,\n",
              "        7.87936936e-13, 3.52900265e-10, 2.18413482e-10, 2.16234405e-10,\n",
              "        2.65137388e-08, 2.88824431e-09, 1.32527031e-10, 1.53039451e-07,\n",
              "        4.08103453e-08, 1.25937788e-10, 5.10418319e-10, 1.16607735e-09,\n",
              "        7.11724624e-10, 1.21195221e-10, 8.29444180e-10, 4.54126381e-09,\n",
              "        1.47053270e-09, 1.43904832e-09, 8.81440754e-11, 4.29936697e-10,\n",
              "        1.17081100e-09, 1.02215036e-09, 3.95619426e-10, 4.63866741e-08,\n",
              "        4.43483444e-11, 4.04147436e-08, 1.97976191e-09, 1.17036988e-11,\n",
              "        2.32330925e-11, 3.18690674e-09, 5.96481531e-09, 3.14787441e-09,\n",
              "        4.75938533e-09, 7.42146011e-10, 2.15149953e-10, 1.67555747e-10,\n",
              "        4.11022050e-11, 8.05448555e-11, 1.06551301e-09, 8.48300008e-09,\n",
              "        5.19974452e-10, 1.83396810e-06, 1.50305410e-11, 8.22292734e-10,\n",
              "        5.88036980e-11, 8.57788451e-10, 1.80011306e-09, 1.74053636e-11,\n",
              "        2.16635599e-05, 5.57747633e-11, 3.28728644e-09, 1.46489515e-12,\n",
              "        7.07208736e-11, 2.67549004e-11, 2.27747048e-13, 8.38053307e-11,\n",
              "        1.47674797e-08, 4.93715901e-11, 1.05185229e-10, 6.65371136e-09,\n",
              "        1.19337029e-09, 3.74368714e-09, 2.77448398e-09, 3.86780528e-08,\n",
              "        1.59632640e-10, 4.82801354e-09, 7.11442993e-08, 1.14511878e-09,\n",
              "        2.15820306e-10, 4.37895775e-10, 7.76700752e-14, 2.87666865e-07,\n",
              "        5.66760594e-09, 1.33869515e-09, 1.95778602e-10, 2.14687643e-13,\n",
              "        3.50637319e-09, 6.91404223e-09, 3.83607901e-09, 3.39850659e-09,\n",
              "        2.62440958e-09, 8.00403840e-11, 2.37031098e-12, 2.11978865e-10,\n",
              "        6.13614359e-09, 1.13592802e-09, 2.86945676e-11, 6.16453200e-09,\n",
              "        9.78339545e-12, 1.70073062e-02, 5.79126863e-05, 1.66177017e-10,\n",
              "        7.15205939e-09, 2.00747977e-11, 1.34287189e-12, 4.54027427e-10,\n",
              "        5.10839808e-11, 5.17562104e-10, 4.98119501e-09, 1.02377751e-09,\n",
              "        2.17549520e-10, 2.84983898e-10, 1.03787522e-06, 1.17800152e-03,\n",
              "        6.47823299e-06, 1.42401078e-07, 5.34132472e-04, 1.83872623e-06,\n",
              "        5.62295952e-07, 2.51647236e-09, 4.26739462e-06, 6.00100378e-08,\n",
              "        7.30626596e-07, 1.10860991e-08, 3.09807362e-08, 5.94677931e-06,\n",
              "        1.70954399e-06, 2.08386100e-05, 1.76056328e-05, 1.26695470e-03,\n",
              "        2.65909739e-06, 4.33927235e-05, 1.70598548e-06, 2.06827212e-06,\n",
              "        3.65414138e-07, 8.82835650e-07, 5.09370934e-10, 2.03470995e-06,\n",
              "        3.37747747e-06, 2.76502874e-08, 4.61772572e-07, 3.73991904e-09,\n",
              "        1.42991141e-07, 1.54945898e-04, 6.13081212e-08, 1.57135321e-06,\n",
              "        2.01735908e-08, 1.98906260e-08, 5.37989597e-10, 6.22292964e-06,\n",
              "        1.86269858e-07, 1.78589072e-08, 4.90273487e-05, 9.71672475e-01,\n",
              "        5.38972032e-04, 3.50441439e-07, 1.24983899e-07, 3.26320859e-10,\n",
              "        6.13344087e-09, 2.26251196e-09, 1.08354506e-11, 3.25294722e-11,\n",
              "        1.68174016e-10, 6.27847704e-11, 2.12686552e-12, 7.31310679e-10,\n",
              "        5.80452396e-12, 1.35794796e-11, 6.93663599e-11, 2.87752964e-11,\n",
              "        4.42093931e-12, 5.94684588e-12, 6.58853505e-09, 1.29162137e-09,\n",
              "        1.06250488e-10, 7.70718955e-08, 9.69401781e-11, 5.38686800e-06,\n",
              "        9.10660969e-09, 3.54641316e-09, 1.74403834e-08, 4.03065670e-09,\n",
              "        1.44204179e-07, 2.87658364e-09, 1.85832838e-09, 1.66177507e-08,\n",
              "        1.08182542e-06, 3.46387736e-07, 1.41718004e-07, 9.76572712e-11]],\n",
              "      dtype=float32)"
            ]
          },
          "metadata": {},
          "execution_count": 18
        }
      ],
      "source": [
        "# Code it!\n",
        "my_result = my_model.predict(my_image)\n",
        "my_result"
      ]
    },
    {
      "cell_type": "markdown",
      "metadata": {
        "id": "tWXEx5jR9aR8"
      },
      "source": [
        "How could you verify that there are 1,000 numbers in the `my_result` variable?\n",
        "\n",
        "* Try coding that.\n",
        "* You may get a clearly incorrect answer. Look closely at how `my_result` printed and see if you can figure out how to get the number of values.\n",
        "   * Hint, how many square bracket sets are there in `my_result`?"
      ]
    },
    {
      "cell_type": "code",
      "execution_count": null,
      "metadata": {
        "tags": [],
        "id": "rNwaowNO9aR8"
      },
      "outputs": [],
      "source": [
        "# Code it\n"
      ]
    },
    {
      "cell_type": "markdown",
      "metadata": {
        "id": "Ne0ExaOX9aR9"
      },
      "source": [
        "## 9. Get prediction label\n",
        "\n",
        "The model's predict method returns an array with 1,000 numbers. Each number is the \"probability\" that the input image belongs to the corresponding category. The category list is in [this text file](ImageNet_1K_labels.txt).\n",
        "\n",
        "Convert this to its corresponding text label. We could find the maximum value and look up the category, but the `decode_predictions` function does this for us. According to [the documentation](https://www.tensorflow.org/api_docs/python/tf/keras/applications/resnet50/decode_predictions), `decode_predictions` returns: class name, class label and probability of the top five results by default.\n",
        "\n",
        "```python\n",
        "# Decode the prediction result to get human-readable class labels\n",
        "my_label = decode_predictions(my_result)\n",
        "my_label\n",
        "```"
      ]
    },
    {
      "cell_type": "code",
      "execution_count": 19,
      "metadata": {
        "id": "vvGeu6y19aR9",
        "outputId": "cebee7d2-2432-4eb1-fc85-3870a8447836",
        "colab": {
          "base_uri": "https://localhost:8080/"
        }
      },
      "outputs": [
        {
          "output_type": "stream",
          "name": "stdout",
          "text": [
            "Downloading data from https://storage.googleapis.com/download.tensorflow.org/data/imagenet_class_index.json\n",
            "35363/35363 [==============================] - 0s 0us/step\n"
          ]
        },
        {
          "output_type": "execute_result",
          "data": {
            "text/plain": [
              "[[('n07873807', 'pizza', 0.9716725),\n",
              "  ('n04596742', 'wok', 0.017007306),\n",
              "  ('n04270147', 'spatula', 0.0049659987),\n",
              "  ('n07716358', 'zucchini', 0.0012669547),\n",
              "  ('n07579787', 'plate', 0.0011780015)]]"
            ]
          },
          "metadata": {},
          "execution_count": 19
        }
      ],
      "source": [
        "# Code it!\n",
        "my_label = decode_predictions(my_result)\n",
        "my_label"
      ]
    },
    {
      "cell_type": "markdown",
      "metadata": {
        "id": "GWjRwRre9aR9"
      },
      "source": [
        "## 10. Assign list item to a variable\n",
        "\n",
        "Assign the first item listed by the prediction to a variable - this is the label with the highest probability.\n",
        "\n",
        "* Extract the label with the highest predicted probability.\n",
        "   * Recalling that in Python, all indexes start at 0, the [0][0] indexing retrieves the first prediction from the first batch of results.\n",
        "\n",
        "```python\n",
        "my_label = my_label[0][0]\n",
        "my_label\n",
        "```"
      ]
    },
    {
      "cell_type": "code",
      "execution_count": 20,
      "metadata": {
        "id": "u_NDcXMV9aR9",
        "outputId": "1d9f8f97-b895-42f7-c8a0-0b9d72fec31b",
        "colab": {
          "base_uri": "https://localhost:8080/"
        }
      },
      "outputs": [
        {
          "output_type": "execute_result",
          "data": {
            "text/plain": [
              "('n07873807', 'pizza', 0.9716725)"
            ]
          },
          "metadata": {},
          "execution_count": 20
        }
      ],
      "source": [
        "# Code it!\n",
        "my_label = my_label[0][0]\n",
        "my_label"
      ]
    },
    {
      "cell_type": "markdown",
      "metadata": {
        "id": "ypkgpGgx9aR-"
      },
      "source": [
        "## 11. Print the label\n",
        "\n",
        "Include the label in a sentence and then print it.\n",
        "\n",
        "* The `my_label` variable contains information about the prediction in the format (ID, Label, Probability).\n",
        "* Using `my_label[1]` extracts the human-readable label (e.g., 'pizza') for the predicted class.\n",
        "\n",
        "```python\n",
        "# Print the predicted class label in a formatted string\n",
        "print(f\"This is an image of a {my_label[1]}!\")\n",
        "```"
      ]
    },
    {
      "cell_type": "code",
      "execution_count": 21,
      "metadata": {
        "id": "4ahRguiN9aR-",
        "outputId": "1f614e63-fecc-4490-c00c-1aea4cab8e1d",
        "colab": {
          "base_uri": "https://localhost:8080/"
        }
      },
      "outputs": [
        {
          "output_type": "stream",
          "name": "stdout",
          "text": [
            "This is an image of a pizza!\n"
          ]
        }
      ],
      "source": [
        "# Code it!\n",
        "print(f\"This is an image of a {my_label[1]}!\")"
      ]
    },
    {
      "cell_type": "markdown",
      "metadata": {
        "id": "-lG1aCMy9aR-"
      },
      "source": [
        "### <img src='https://github.com/zjims/deep-learning/blob/main/images/tip_icon.svg?raw=1' width=40, align='center' alt='Tip icon'> Tip\n",
        "> Although we use an image of a pizza here, you can use just about any image with\n",
        "> this model. Try out this exercise multiple times with different images to see if\n",
        "> you can fool it. The [ImageNet_1K_labels.txt](https://raw.githubusercontent.com/PracticumAI/deep_learning/main/Image_Net_1K_labels.txt)\n",
        "> file lists all the image categories this model is trained to classify."
      ]
    },
    {
      "cell_type": "markdown",
      "metadata": {
        "id": "KWG9TFci9aR-"
      },
      "source": [
        "## 12. Create a speech sentence\n",
        "\n",
        "As a busy scientist, Dr. Amelia tries to multi-task as much as possible. Now that she has the image recognition step worked out, she wants to add an audio component to her program to read the results while working out at the gym.\n",
        "\n",
        "Luckily, text-to-speech technology is as easy to implement as image recognition! Let's help Amelia get the next step of her prototype up and running!\n",
        "\n",
        "Create a longer sentence to convert to speech.\n",
        "```python\n",
        "say_it = f\"This participant is eating {my_label[1]} today.\"\n",
        "```"
      ]
    },
    {
      "cell_type": "code",
      "execution_count": 22,
      "metadata": {
        "id": "6YcJ0tmR9aR-"
      },
      "outputs": [],
      "source": [
        "# Code it!\n",
        "say_it = f\"This participant is eating {my_label[1]} today.\""
      ]
    },
    {
      "cell_type": "markdown",
      "metadata": {
        "id": "pYX-qEI49aR-"
      },
      "source": [
        "## 13. Execute the gtts function\n",
        "\n",
        "Pass the say_it variable to the gTTS API.\n",
        "\n",
        "```python\n",
        "my_speech = gTTS(text = say_it)\n",
        "```"
      ]
    },
    {
      "cell_type": "code",
      "execution_count": 23,
      "metadata": {
        "id": "-frtHL1t9aR_"
      },
      "outputs": [],
      "source": [
        "# Code it!\n",
        "my_speech = gTTS(text = say_it)"
      ]
    },
    {
      "cell_type": "markdown",
      "metadata": {
        "id": "XIoN0q1F9aR_"
      },
      "source": [
        "## 14. Save the audio file\n",
        "\n",
        "gTTS will convert the string you gave it into an audio file. Save the audio file. The default location is the current directory.\n",
        "\n",
        "```python\n",
        "# Save the audio file in the current directory.\n",
        "my_speech.save(\"prediction.mp3\")\n",
        "```"
      ]
    },
    {
      "cell_type": "code",
      "execution_count": 25,
      "metadata": {
        "id": "KqTQ1CAq9aR_"
      },
      "outputs": [],
      "source": [
        "# Code it!\n",
        "my_speech.save(\"/prediction.mp3\")"
      ]
    },
    {
      "cell_type": "markdown",
      "metadata": {
        "id": "GmAJ-4km9aR_"
      },
      "source": [
        "### <img src='https://github.com/zjims/deep-learning/blob/main/images/note_icon.svg?raw=1' width=40, align='center' alt='Note icon'> Note\n",
        "> This last block of code is only needed if you are running Jupyter Notebooks\n",
        "> on a local computer.  Otherwise, download the .mp3 file from your HPC system and\n",
        "> listen to it on your computer."
      ]
    },
    {
      "cell_type": "code",
      "execution_count": null,
      "metadata": {
        "id": "pGS75T-C9aR_"
      },
      "outputs": [],
      "source": [
        "# Uncomment and run if running on local system as opposed to HPC or Google Colab\n",
        "# os.system(\"prediction.mp3\")"
      ]
    },
    {
      "cell_type": "markdown",
      "metadata": {
        "id": "eCX2vTqo9aR_"
      },
      "source": [
        "## 15. Let's put it all together\n",
        "\n",
        "We can put all of these steps together in a function to make it easier to test more images."
      ]
    },
    {
      "cell_type": "code",
      "execution_count": null,
      "metadata": {
        "id": "bDszO4pw9aR_"
      },
      "outputs": [],
      "source": [
        "def what_are_they_eating(image):\n",
        "    '''Takes an image and returns a ResNet50 prediction.'''\n",
        "    my_image = load_img(image, target_size = (224, 224))\n",
        "    my_image = img_to_array(my_image)\n",
        "    my_image = my_image.reshape((1, 224, 224, 3))\n",
        "    my_image = preprocess_input(my_image)\n",
        "    my_result = my_model.predict(my_image)\n",
        "    my_label = decode_predictions(my_result)\n",
        "\n",
        "    return my_label[0][0]\n",
        "\n",
        "def tell_me_what_they_ate(label):\n",
        "    '''Takes a label and returns a mp3 speech file with the item that was eaten.'''\n",
        "    say_it = f\"This participant is eating {label} today.\"\n",
        "    my_speech = gTTS(text = say_it)\n",
        "    my_speech.save(f\"{label}_prediction.mp3\")\n",
        "    print(f\"Sound file saved to {label}_prediction.mp3\")"
      ]
    },
    {
      "cell_type": "code",
      "execution_count": null,
      "metadata": {
        "id": "E53sHkdM9aR_"
      },
      "outputs": [],
      "source": [
        "# Now run on a new image of pizza\n",
        "# Image courtesy of Ruslan Khmelevsky https://www.pexels.com/photo/a-pizza-inside-the-brick-oven-14129177/\n",
        "label = what_are_they_eating('images/hawaiian_pizza_khmelevsky.jpg')\n",
        "print(label)\n",
        "\n",
        "tell_me_what_they_ate(label[1])"
      ]
    },
    {
      "cell_type": "markdown",
      "metadata": {
        "id": "CueXAzhJ9aSD"
      },
      "source": [
        "## 16. Test other items\n",
        "Amelia should also test with some other food items to ensure her system is working. Let's try this burger.\n",
        "\n",
        "![Photo of a hamburger](https://github.com/zjims/deep-learning/blob/main/images/hamburger.jpg?raw=1)"
      ]
    },
    {
      "cell_type": "code",
      "execution_count": null,
      "metadata": {
        "id": "OYwwoQpJ9aSD"
      },
      "outputs": [],
      "source": [
        "label = what_are_they_eating('images/hamburger.jpg')\n",
        "print(label)\n",
        "\n",
        "tell_me_what_they_ate(label[1])"
      ]
    },
    {
      "cell_type": "markdown",
      "metadata": {
        "id": "PXd3sRHU9aSD"
      },
      "source": [
        "#### How did that work?\n",
        "\n",
        "Amelia's classifier works well, predicting that the image is a cheeseburger. But...I don't see any cheese on that burger! Why do you think the cheeseburger category was selected? Remember to look at the [ImageNet categories](ImageNet_1K_labels.txt).\n",
        "\n",
        "Remember, a model will output probabilities of the categories it was trained on, and all the output probabilities must sum to one. The model has no mechanism to tell you it doesn't recognize the image!\n",
        "\n",
        "\n",
        "## 17. More challenges\n",
        "\n",
        "Hmm...While reviewing some predictions, Amelia discovers a problem. Did the participant eat pizza again? or is this a quiche?\n",
        "\n",
        "![A photo of quiche](https://github.com/zjims/deep-learning/blob/main/images/quiche.jpg?raw=1)"
      ]
    },
    {
      "cell_type": "code",
      "execution_count": null,
      "metadata": {
        "id": "bhyQj3cm9aSD"
      },
      "outputs": [],
      "source": [
        "label = what_are_they_eating('images/quiche.jpg')\n",
        "print(label)\n",
        "\n",
        "tell_me_what_they_ate(label[1])"
      ]
    },
    {
      "cell_type": "markdown",
      "metadata": {
        "id": "sovTnuQV9aSD"
      },
      "source": [
        "Again, consider the importance of training data representing the data used when the model is deployed. Recognize the limitations of models to make predictions based on the training categories.\n",
        "\n",
        "These issues relate to the discussion of AI ethics and how well your AI model will work. If the training data do not represent the data used in deployment, AI models will be of limited value and can even be misleading. The consequences may be manageable for Amelia's research study, but we must carefully evaluate the performance and suitability of all AI models as we work with them.\n",
        "\n",
        "Hopefully, this fun exercise showed how easy it can be to use AI models to accomplish everyday tasks like image classification and text-to-speech.\n",
        "\n",
        "### Further refinement\n",
        "\n",
        "As we have helped Dr. Amelia discover, she may be unable to use ResNet50 trained on ImageNet for her task. There are too few food categories to work reliably for her study. Does that mean she needs to start from scratch?\n",
        "\n",
        "No! In a future *Practicum AI* course, you can learn about **transfer learning**. Transfer learning allows you to take a model trained on one dataset and fine-tune it for a new dataset. With transfer learning, you can harness the information a model has learned about its training data, 1,000 categories of objects in the case of ImageNet, and add new information specific to your task. The advantage here is that you typically need far less data to train a model to recognize many food types, for example, when it already knows about food and many other things in the world!\n",
        "\n",
        "\n",
        "Please tune in to our next notebook to see what Amelia is up to next!\n"
      ]
    },
    {
      "cell_type": "markdown",
      "metadata": {
        "id": "XCFcsMqO9aSD"
      },
      "source": [
        "## Bonus Exercises\n",
        "\n",
        "1. Change the code so that if the confidence of the model's prediction is less than 0.75, the code output says it's not sure what the image is.\n",
        "1. Change the code to output the top *n* categories and their probabilities.\n",
        "1. Change the code so that each loaded image has its label added to a list saved to a text file.\n",
        "\n",
        "\n",
        "## Before continuing\n",
        "###  <img src='https://github.com/zjims/deep-learning/blob/main/images/alert_icon.svg?raw=1' alt=\"Alert icon\" width=40 align=center> Alert!\n",
        "> Before continuing to another notebook within the same Jupyter session,\n",
        "> use the **\"Running Terminals and Kernels\" tab** (below the File Browser tab) to **shut down this kernel**.\n",
        "> This will free up this notebook's GPU memory, making it available for\n",
        "> your next notebook.\n",
        ">\n",
        "> Every time you run multiple notebooks within a Jupyter session with a GPU, this should be done.\n",
        ">\n",
        "> ![Screenshot of the Running Terminals and Kernels tab used t oshut down kernels before starting a new notebook](https://github.com/zjims/deep-learning/blob/main/images/stop_kernel.png?raw=1)"
      ]
    },
    {
      "cell_type": "markdown",
      "metadata": {
        "tags": [],
        "id": "e-XaybWY9aSD"
      },
      "source": [
        "----\n",
        "## Push changes to GitHub <img src=\"https://github.com/zjims/deep-learning/blob/main/images/push_to_github.png?raw=1\" alt=\"Push to GitHub icon\" align=\"right\" width=150>\n",
        "\n",
        " Remember to **add**, **commit**, and **push** the changes you have made to this notebook to GitHub to keep your repository in sync.\n",
        "\n",
        "In Jupyter, those are done in the git tab on the left. In Google Colab, use File > Save a copy in GitHub.\n"
      ]
    },
    {
      "cell_type": "code",
      "execution_count": null,
      "metadata": {
        "id": "QY-ASzYg9aSD"
      },
      "outputs": [],
      "source": []
    }
  ],
  "metadata": {
    "kernelspec": {
      "display_name": "Tensorflow-2.15",
      "language": "python",
      "name": "tensorflow-2.15"
    },
    "language_info": {
      "codemirror_mode": {
        "name": "ipython",
        "version": 3
      },
      "file_extension": ".py",
      "mimetype": "text/x-python",
      "name": "python",
      "nbconvert_exporter": "python",
      "pygments_lexer": "ipython3",
      "version": "3.11.5"
    },
    "colab": {
      "provenance": []
    }
  },
  "nbformat": 4,
  "nbformat_minor": 0
}